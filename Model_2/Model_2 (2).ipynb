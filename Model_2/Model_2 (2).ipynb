{
  "cells": [
    {
      "cell_type": "markdown",
      "metadata": {
        "id": "VTvr4_sti9Am"
      },
      "source": [
        "# Inroduction\n"
      ]
    },
    {
      "cell_type": "markdown",
      "metadata": {
        "id": "Rm8HKcygh4L2"
      },
      "source": [
        "This sample notebook demonstrates how to process live data streams using Pathway. The dataset used here is a subset of the one provided — specifically, it includes data for only a single parking spot. You are expected to implement your model across all parking spots.\n",
        "\n",
        "Please note that the pricing model used in this notebook is a simple baseline. You are expected to design and implement a more advanced and effective model.\n"
      ]
    },
    {
      "cell_type": "code",
      "execution_count": null,
      "metadata": {
        "id": "LlwkKnB50IGF"
      },
      "outputs": [],
      "source": [
        "!pip install pathway bokeh --quiet # This cell may take a few seconds to execute."
      ]
    },
    {
      "cell_type": "code",
      "execution_count": null,
      "metadata": {
        "id": "pHuc1nkJveN3"
      },
      "outputs": [],
      "source": [
        "import numpy as np\n",
        "import pandas as pd\n",
        "import matplotlib.pyplot as plt\n",
        "import datetime\n",
        "from datetime import datetime\n",
        "import pathway as pw\n",
        "import bokeh.plotting\n",
        "import panel as pn"
      ]
    },
    {
      "cell_type": "markdown",
      "metadata": {
        "id": "gGpZl1FxjFXE"
      },
      "source": [
        "# Step 1: Importing and Preprocessing the Data"
      ]
    },
    {
      "cell_type": "code",
      "execution_count": null,
      "metadata": {
        "id": "4D6geoV9veN3"
      },
      "outputs": [],
      "source": [
        "df = pd.read_csv('/content/dataset.csv')\n",
        "places = df['SystemCodeNumber'].unique()\n",
        "df\n",
        "\n",
        "# You can find the sample dataset here: https://drive.google.com/file/d/1D479FLjp9aO3Mg8g6Lpj9oRViWacurA6/view?usp=sharing"
      ]
    },
    {
      "cell_type": "code",
      "execution_count": null,
      "metadata": {
        "id": "QBrvlQTjveN4"
      },
      "outputs": [],
      "source": [
        "# Combine the 'LastUpdatedDate' and 'LastUpdatedTime' columns into a single datetime column\n",
        "df['Timestamp'] = pd.to_datetime(df['LastUpdatedDate'] + ' ' + df['LastUpdatedTime'],\n",
        "                                  format='%d-%m-%Y %H:%M:%S')\n",
        "\n",
        "# Sort the DataFrame by the new 'Timestamp' column and reset the index\n",
        "df = df.sort_values('Timestamp').reset_index(drop=True).drop(columns = 'ID')\n"
      ]
    },
    {
      "cell_type": "code",
      "source": [
        "df"
      ],
      "metadata": {
        "id": "4CsfSAejlZrG"
      },
      "execution_count": null,
      "outputs": []
    },
    {
      "cell_type": "code",
      "source": [
        "# df['TrafficConditionNearby'].unique() # low/average/high\n",
        "# df['VehicleType'].unique() # car,bike,truck,cycle\n",
        "# df['IsSpecialDay'].unique() 0/1\n",
        "# queuelenth 0-15\n",
        "\n",
        "# Label encoding for TrafficConditionNearby\n",
        "df['TrafficConditionNearby'] = df['TrafficConditionNearby'].map({\n",
        "    'low': 1,\n",
        "    'average': 2,\n",
        "    'high': 3\n",
        "})\n",
        "\n",
        "# Label encoding for VehicleType\n",
        "df['VehicleType'] = df['VehicleType'].map({\n",
        "    'cycle': 1,\n",
        "    'bike': 2,\n",
        "    'car': 3,\n",
        "    'truck': 4\n",
        "})\n",
        "\n",
        "df"
      ],
      "metadata": {
        "id": "kDNS-nx-jXtF"
      },
      "execution_count": null,
      "outputs": []
    },
    {
      "cell_type": "code",
      "execution_count": null,
      "metadata": {
        "id": "c52UkGGpveN5"
      },
      "outputs": [],
      "source": [
        "# Save the selected columns to a CSV file for streaming or downstream processing\n",
        "df[[\"SystemCodeNumber\",\"Timestamp\", \"Occupancy\", \"Capacity\", \"VehicleType\", \"TrafficConditionNearby\", \"QueueLength\", \"IsSpecialDay\"]].to_csv(\"parking_stream.csv\", index=False)\n",
        "\n",
        "# Note: Only three features are used here for simplicity.\n",
        "# Participants are expected to incorporate additional relevant features in their models."
      ]
    },
    {
      "cell_type": "code",
      "execution_count": null,
      "metadata": {
        "id": "H0pe3TGIyKJE"
      },
      "outputs": [],
      "source": [
        "# Define the schema for the streaming data using Pathway\n",
        "# This schema specifies the expected structure of each data row in the stream\n",
        "\n",
        "class ParkingSchema(pw.Schema):\n",
        "    SystemCodeNumber : str\n",
        "    Timestamp: str   # Timestamp of the observation (should ideally be in ISO format)\n",
        "    Occupancy: int   # Number of occupied parking spots\n",
        "    Capacity: int    # Total parking capacity at the location\n",
        "    VehicleType: int # Type of vehicle (1=cycle, 2=bike, 3=car, 4=truck)\n",
        "    TrafficConditionNearby: int # Level of traffic (1=low, 2=average, 3=high)\n",
        "    QueueLength: int # 0-15\n",
        "    IsSpecialDay: int # 0/1\n"
      ]
    },
    {
      "cell_type": "code",
      "execution_count": null,
      "metadata": {
        "id": "a4LxMh4xziMv"
      },
      "outputs": [],
      "source": [
        "# Load the data as a simulated stream using Pathway's replay_csv function\n",
        "# This replays the CSV data at a controlled input rate to mimic real-time streaming\n",
        "# input_rate=1000 means approximately 1000 rows per second will be ingested into the stream.\n",
        "\n",
        "data = pw.demo.replay_csv(\"parking_stream.csv\", schema=ParkingSchema, input_rate=1000)\n"
      ]
    },
    {
      "cell_type": "code",
      "execution_count": null,
      "metadata": {
        "id": "IkBP_AA-zjec"
      },
      "outputs": [],
      "source": [
        "# Define the datetime format to parse the 'Timestamp' column\n",
        "fmt = \"%Y-%m-%d %H:%M:%S\"\n",
        "\n",
        "# Add new columns to the data stream:\n",
        "# - 't' contains the parsed full datetime\n",
        "# - 'day' extracts the date part and resets the time to midnight (useful for day-level aggregations)\n",
        "data_with_time = data.with_columns(\n",
        "    t = data.Timestamp.dt.strptime(fmt),\n",
        "    day = data.Timestamp.dt.strptime(fmt).dt.strftime(\"%Y-%m-%dT00:00:00\")\n",
        ")\n"
      ]
    },
    {
      "cell_type": "markdown",
      "metadata": {
        "id": "JNDR7r4DqkhI"
      },
      "source": [
        "# Step 2: Making a simple pricing function"
      ]
    },
    {
      "cell_type": "code",
      "execution_count": null,
      "metadata": {
        "id": "MznsSjanveN5"
      },
      "outputs": [],
      "source": [
        "# Define a daily tumbling window over the data stream using Pathway\n",
        "# This block performs temporal aggregation and computes a dynamic price for each day\n",
        "import datetime\n",
        "\n",
        "delta_window = (\n",
        "    data_with_time\n",
        "    .windowby(\n",
        "        pw.this.t,  # Event time column to use for windowing (parsed datetime)\n",
        "        instance=pw.this.day,  # Logical partitioning key: one instance per calendar day\n",
        "        window=pw.temporal.tumbling(datetime.timedelta(days=1)),  # Fixed-size daily window\n",
        "        behavior=pw.temporal.exactly_once_behavior()  # Guarantees exactly-once processing semantics\n",
        "    )\n",
        "    .groupby(pw.this.SystemCodeNumber)\n",
        "    .reduce(\n",
        "        SystemCodeNumber = pw.reducers.argmax(pw.this.t, pw.this.SystemCodeNumber),\n",
        "        occupancy = pw.reducers.argmax(pw.this.t, pw.this.Occupancy),\n",
        "        capacity = pw.reducers.argmax(pw.this.t, pw.this.Capacity),\n",
        "        t = pw.reducers.argmax(pw.this.t, pw.this.t),\n",
        "        day = pw.reducers.argmax(pw.this.t, pw.this.day),\n",
        "        VehicleType = pw.reducers.argmax(pw.this.t, pw.this.VehicleType),\n",
        "        TrafficConditionNearby = pw.reducers.argmax(pw.this.t, pw.this.TrafficConditionNearby),\n",
        "        QueueLength = pw.reducers.argmax(pw.this.t, pw.this.QueueLength),\n",
        "        IsSpecialDay = pw.reducers.argmax(pw.this.t, pw.this.IsSpecialDay),\n",
        "\n",
        "    )\n",
        "    .with_columns(\n",
        "        # alpha = 2.0\n",
        "        # beta = 1.5\n",
        "        # gamma = 1.0\n",
        "        # delta = 3.0\n",
        "        # epsilon = 0.8\n",
        "        # baseprice 10\n",
        "        normalized_demand = (\n",
        "                                2*(pw.this.occupancy/pw.this.capacity)\n",
        "                             + 1.5*(pw.this.QueueLength)\n",
        "                                  -(pw.this.TrafficConditionNearby)\n",
        "                                +3*(pw.this.IsSpecialDay)\n",
        "                             + 0.8*(pw.this.VehicleType)\n",
        "                             )\n",
        "                             /\n",
        "\n",
        "                           (\n",
        "                                  (pw.this.occupancy/pw.this.capacity)\n",
        "                                +(pw.this.QueueLength)\n",
        "                                +(pw.this.TrafficConditionNearby)\n",
        "                                +(pw.this.IsSpecialDay)\n",
        "                               + (pw.this.VehicleType)\n",
        "                               )\n",
        "\n",
        "    )\n",
        "    .with_columns(\n",
        "\n",
        "                   price = 10 *( 1 + pw.this.normalized_demand)\n",
        "    )\n",
        ")\n",
        "\n",
        "delta_window\n"
      ]
    },
    {
      "cell_type": "code",
      "execution_count": null,
      "metadata": {
        "id": "IQdi6PfbkewK"
      },
      "outputs": [],
      "source": [
        "pw.io.csv.write(delta_window, '/content/output.csv')"
      ]
    },
    {
      "cell_type": "code",
      "execution_count": null,
      "metadata": {
        "id": "rWIXQoFmhZvL"
      },
      "outputs": [],
      "source": [
        "# Start the Pathway pipeline execution in the background\n",
        "# - This triggers the real-time data stream processing defined above\n",
        "# - %%capture --no-display suppresses output in the notebook interface\n",
        "\n",
        "%%capture --no-display\n",
        "pw.run()"
      ]
    },
    {
      "cell_type": "code",
      "execution_count": null,
      "metadata": {
        "id": "diPma6HPknwe"
      },
      "outputs": [],
      "source": [
        "df_1 = pd.read_csv('/content/output.csv')\n",
        "df_1['t'] = pd.to_datetime(df_1['t'])\n",
        "df_1['price'] = df_1['price'].round(2)\n",
        "df_1"
      ]
    },
    {
      "cell_type": "code",
      "execution_count": null,
      "metadata": {
        "id": "gkZJ7VD_lZMQ"
      },
      "outputs": [],
      "source": [
        "for place in places:\n",
        "   mask = df_1['SystemCodeNumber'] == place\n",
        "   df_2 = df_1[mask]\n",
        "   data = df_2.copy().reset_index(drop=True)\n",
        "\n",
        "#Update prices row-by-row using previous row\n",
        "   for i in range(1, len(data)):\n",
        "    prev_price = data.loc[i - 1, 'price']\n",
        "    prev_demand = data.loc[i - 1, 'normalized_demand']\n",
        "    demand = data.loc[i, 'normalized_demand']\n",
        "    if (prev_demand) < (demand):\n",
        "      alpha = 5\n",
        "      demand_diff = demand - prev_demand\n",
        "    else:\n",
        "      alpha = -5\n",
        "      demand_diff = prev_demand - demand\n",
        "\n",
        "    data.loc[i, 'price'] = prev_price + alpha * (demand_diff)\n",
        "\n",
        "   df_1.loc[mask, 'price'] = data['price'].values\n",
        "\n",
        "\n",
        "df_1['price'] = df_1['price'].round(2)\n",
        "df_1"
      ]
    },
    {
      "cell_type": "markdown",
      "metadata": {
        "id": "E3sMSFtUqvax"
      },
      "source": [
        "# Step 3: Visualizing Daily Price Fluctuations with a Bokeh Plot"
      ]
    },
    {
      "cell_type": "markdown",
      "metadata": {
        "id": "POd-S7QMo9JA"
      },
      "source": [
        "**Note:** The Bokeh plot in the next cell will only be generated after you run the `pw.run()` cell (i.e., the final cell).\n"
      ]
    },
    {
      "cell_type": "code",
      "execution_count": null,
      "metadata": {
        "id": "PtBCKxmUYSgx"
      },
      "outputs": [],
      "source": [
        "from bokeh.io import output_file, show\n",
        "from bokeh.plotting import figure\n",
        "from bokeh.io import curdoc\n",
        "from bokeh.plotting import ColumnDataSource, figure, output_file, show\n",
        "\n",
        "\n",
        "# print(df)\n",
        "\n",
        "curdoc().theme = 'dark_minimal'\n",
        "\n",
        "\n",
        "def plot_price_fluctuations(df, place):\n",
        "   p = figure(title=place ,width=1000, height=400, x_axis_type=\"datetime\")\n",
        "   p.line(df.t, df.price)\n",
        "   p.scatter(df.t, df.price, fill_color=\"red\", size=5)\n",
        "   show(p)\n",
        "\n",
        "\n",
        "for place in places:\n",
        "   plot_price_fluctuations(df_1[df_1['SystemCodeNumber'] == place], place)\n"
      ]
    },
    {
      "cell_type": "code",
      "source": [
        "from bokeh.io import show, curdoc\n",
        "from bokeh.plotting import figure, ColumnDataSource\n",
        "from bokeh.models import Dropdown, CustomJS\n",
        "from bokeh.layouts import column\n",
        "from bokeh.models import Select\n",
        "\n",
        "places = df_1['SystemCodeNumber'].unique().tolist()\n",
        "df_1['t_ms'] = pd.to_datetime(df_1['t']).astype('int64') // 10**6  # to milliseconds\n",
        "\n",
        "data_dict = {\n",
        "    place: df_1[df_1['SystemCodeNumber'] == place][['t_ms', 'price']].to_dict('list')\n",
        "    for place in places\n",
        "}\n",
        "\n",
        "#Initialize with the first place\n",
        "initial_place = places[0]\n",
        "source = ColumnDataSource(data={\n",
        "    't_ms': data_dict[initial_place]['t_ms'],\n",
        "    'price': data_dict[initial_place]['price'],\n",
        "})\n",
        "\n",
        "#Create plot\n",
        "curdoc().theme = 'dark_minimal'\n",
        "\n",
        "p = figure(title=f\"{initial_place}\", x_axis_type=\"datetime\", width=1000, height=400)\n",
        "p.line('t_ms', 'price', source=source)\n",
        "p.scatter('t_ms', 'price', source=source, fill_color='red', size=5)\n",
        "\n",
        "#Select menu\n",
        "menu = [(place, place) for place in places]\n",
        "select = Select(title=\"Select Place\", value=initial_place, options=places)\n",
        "select.js_on_change(\"value\", CustomJS(args=dict(source=source, full_data=data_dict, plot=p), code=\"\"\"\n",
        "    const selected = this.value;\n",
        "    const data = full_data[selected];\n",
        "    source.data = { t_ms: data.t_ms, price: data.price };\n",
        "    plot.title.text = selected;\n",
        "    source.change.emit();\n",
        "\"\"\"))\n",
        "\n",
        "\n",
        "layout = column(select, p)\n",
        "show(layout)\n",
        "\n",
        "#Output Html File\n",
        "from bokeh.io import output_file\n",
        "\n",
        "output_file(\"price_plot.html\", title=\"Dynamic Price Plot by Location\")"
      ],
      "metadata": {
        "id": "tdYHuFLVHGHq"
      },
      "execution_count": null,
      "outputs": []
    },
    {
      "cell_type": "code",
      "source": [
        "\n"
      ],
      "metadata": {
        "id": "jEPn_8klHHEq"
      },
      "execution_count": 38,
      "outputs": []
    }
  ],
  "metadata": {
    "colab": {
      "provenance": []
    },
    "kaggle": {
      "accelerator": "none",
      "dataSources": [
        {
          "datasetId": 7749157,
          "sourceId": 12294858,
          "sourceType": "datasetVersion"
        }
      ],
      "dockerImageVersionId": 31040,
      "isGpuEnabled": false,
      "isInternetEnabled": true,
      "language": "python",
      "sourceType": "notebook"
    },
    "kernelspec": {
      "display_name": "Python 3",
      "language": "python",
      "name": "python3"
    },
    "language_info": {
      "codemirror_mode": {
        "name": "ipython",
        "version": 3
      },
      "file_extension": ".py",
      "mimetype": "text/x-python",
      "name": "python",
      "nbconvert_exporter": "python",
      "pygments_lexer": "ipython3",
      "version": "3.11.11"
    }
  },
  "nbformat": 4,
  "nbformat_minor": 0
}