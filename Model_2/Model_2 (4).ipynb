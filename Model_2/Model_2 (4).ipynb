{
  "cells": [
    {
      "cell_type": "markdown",
      "metadata": {
        "id": "VTvr4_sti9Am"
      },
      "source": [
        "# Model 2\n",
        "\n"
      ]
    },
    {
      "cell_type": "code",
      "execution_count": null,
      "metadata": {
        "id": "LlwkKnB50IGF"
      },
      "outputs": [],
      "source": [
        "!pip install pathway bokeh --quiet"
      ]
    },
    {
      "cell_type": "code",
      "execution_count": null,
      "metadata": {
        "id": "pHuc1nkJveN3"
      },
      "outputs": [],
      "source": [
        "import numpy as np\n",
        "import pandas as pd\n",
        "import matplotlib.pyplot as plt\n",
        "import datetime\n",
        "from datetime import datetime\n",
        "import pathway as pw\n",
        "import bokeh.plotting\n",
        "import panel as pn"
      ]
    },
    {
      "cell_type": "markdown",
      "metadata": {
        "id": "gGpZl1FxjFXE"
      },
      "source": [
        "# Step 1: Importing and Preprocessing the Data"
      ]
    },
    {
      "cell_type": "code",
      "execution_count": null,
      "metadata": {
        "id": "4D6geoV9veN3"
      },
      "outputs": [],
      "source": [
        "df = pd.read_csv('/content/dataset.csv')\n",
        "places = df['SystemCodeNumber'].unique()\n",
        "df"
      ]
    },
    {
      "cell_type": "code",
      "execution_count": 4,
      "metadata": {
        "id": "QBrvlQTjveN4"
      },
      "outputs": [],
      "source": [
        "# Combine the 'LastUpdatedDate' and 'LastUpdatedTime' columns into a single datetime column\n",
        "df['Timestamp'] = pd.to_datetime(df['LastUpdatedDate'] + ' ' + df['LastUpdatedTime'],\n",
        "                                  format='%d-%m-%Y %H:%M:%S')\n",
        "\n",
        "# Sort the DataFrame by the new 'Timestamp' column and reset the index\n",
        "df = df.sort_values('Timestamp').reset_index(drop=True).drop(columns = 'ID')\n"
      ]
    },
    {
      "cell_type": "code",
      "source": [
        "# df['TrafficConditionNearby'].unique() # low/average/high\n",
        "# df['VehicleType'].unique() # car,bike,truck,cycle\n",
        "# df['IsSpecialDay'].unique() 0/1\n",
        "# queuelenth 0-15\n",
        "\n",
        "# Label encoding for TrafficConditionNearby\n",
        "df['TrafficConditionNearby'] = df['TrafficConditionNearby'].map({\n",
        "    'low': 1,\n",
        "    'average': 2,\n",
        "    'high': 3\n",
        "})\n",
        "\n",
        "# Label encoding for VehicleType\n",
        "df['VehicleType'] = df['VehicleType'].map({\n",
        "    'cycle': 1,\n",
        "    'bike': 2,\n",
        "    'car': 3,\n",
        "    'truck': 4\n",
        "})"
      ],
      "metadata": {
        "id": "kDNS-nx-jXtF"
      },
      "execution_count": 5,
      "outputs": []
    },
    {
      "cell_type": "code",
      "execution_count": 6,
      "metadata": {
        "id": "c52UkGGpveN5"
      },
      "outputs": [],
      "source": [
        "df[[\"SystemCodeNumber\",\"Timestamp\", \"Occupancy\", \"Capacity\", \"VehicleType\",\n",
        "    \"TrafficConditionNearby\", \"QueueLength\", \"IsSpecialDay\"]].to_csv(\"parking_stream.csv\", index=False)"
      ]
    },
    {
      "cell_type": "code",
      "execution_count": 7,
      "metadata": {
        "id": "H0pe3TGIyKJE"
      },
      "outputs": [],
      "source": [
        "class ParkingSchema(pw.Schema):\n",
        "    SystemCodeNumber : str\n",
        "    Timestamp: str   # Timestamp of the observation (should ideally be in ISO format)\n",
        "    Occupancy: int   # Number of occupied parking spots\n",
        "    Capacity: int    # Total parking capacity at the location\n",
        "    VehicleType: int # Type of vehicle (1=cycle, 2=bike, 3=car, 4=truck)\n",
        "    TrafficConditionNearby: int # Level of traffic (1=low, 2=average, 3=high)\n",
        "    QueueLength: int # 0-15\n",
        "    IsSpecialDay: int # 0/1"
      ]
    },
    {
      "cell_type": "code",
      "execution_count": 8,
      "metadata": {
        "id": "a4LxMh4xziMv"
      },
      "outputs": [],
      "source": [
        "# Load the data as a simulated stream using Pathway's replay_csv function\n",
        "# This replays the CSV data at a controlled input rate to mimic real-time streaming\n",
        "# input_rate=1000 means approximately 1000 rows per second will be ingested into the stream.\n",
        "\n",
        "data = pw.demo.replay_csv(\"parking_stream.csv\", schema=ParkingSchema, input_rate=1000)\n"
      ]
    },
    {
      "cell_type": "code",
      "execution_count": 9,
      "metadata": {
        "id": "IkBP_AA-zjec"
      },
      "outputs": [],
      "source": [
        "# Define the datetime format to parse the 'Timestamp' column\n",
        "fmt = \"%Y-%m-%d %H:%M:%S\"\n",
        "\n",
        "# Add new columns to the data stream:\n",
        "# - 't' contains the parsed full datetime\n",
        "# - 'day' extracts the date part and resets the time to midnight (useful for day-level aggregations)\n",
        "data_with_time = data.with_columns(\n",
        "    t = data.Timestamp.dt.strptime(fmt),\n",
        "    day = data.Timestamp.dt.strptime(fmt).dt.strftime(\"%Y-%m-%dT00:00:00\")\n",
        ")\n"
      ]
    },
    {
      "cell_type": "markdown",
      "metadata": {
        "id": "JNDR7r4DqkhI"
      },
      "source": [
        "# Step 2: Making a simple pricing function"
      ]
    },
    {
      "cell_type": "code",
      "execution_count": null,
      "metadata": {
        "id": "MznsSjanveN5"
      },
      "outputs": [],
      "source": [
        "# Define a daily tumbling window over the data stream using Pathway\n",
        "# This block performs temporal aggregation and computes a dynamic price for each day\n",
        "import datetime\n",
        "\n",
        "delta_window = (\n",
        "    data_with_time\n",
        "    .windowby(\n",
        "        pw.this.t,  # Event time column to use for windowing (parsed datetime)\n",
        "        instance=pw.this.day,  # Logical partitioning key: one instance per calendar day\n",
        "        window=pw.temporal.tumbling(datetime.timedelta(days=1)),  # Fixed-size daily window\n",
        "        behavior=pw.temporal.exactly_once_behavior()  # Guarantees exactly-once processing semantics\n",
        "    )\n",
        "    .groupby(pw.this.SystemCodeNumber)\n",
        "    .reduce(\n",
        "        SystemCodeNumber = pw.reducers.argmax(pw.this.t, pw.this.SystemCodeNumber),\n",
        "        occupancy = pw.reducers.argmax(pw.this.t, pw.this.Occupancy),\n",
        "        capacity = pw.reducers.argmax(pw.this.t, pw.this.Capacity),\n",
        "        t = pw.reducers.argmax(pw.this.t, pw.this.t),\n",
        "        day = pw.reducers.argmax(pw.this.t, pw.this.day),\n",
        "        VehicleType = pw.reducers.argmax(pw.this.t, pw.this.VehicleType),\n",
        "        TrafficConditionNearby = pw.reducers.argmax(pw.this.t, pw.this.TrafficConditionNearby),\n",
        "        QueueLength = pw.reducers.argmax(pw.this.t, pw.this.QueueLength),\n",
        "        IsSpecialDay = pw.reducers.argmax(pw.this.t, pw.this.IsSpecialDay),\n",
        "\n",
        "    )\n",
        "    .with_columns(\n",
        "        # alpha = 2.0\n",
        "        # beta = 1.5\n",
        "        # gamma = 1.0\n",
        "        # delta = 3.0\n",
        "        # epsilon = 0.8\n",
        "        # baseprice 10\n",
        "        normalized_demand = (\n",
        "                                2*(pw.this.occupancy/pw.this.capacity)\n",
        "                             + 1.5*(pw.this.QueueLength)\n",
        "                                  -(pw.this.TrafficConditionNearby)\n",
        "                                +3*(pw.this.IsSpecialDay)\n",
        "                             + 0.8*(pw.this.VehicleType)\n",
        "                             )\n",
        "                             /\n",
        "\n",
        "                           (\n",
        "                                  (pw.this.occupancy/pw.this.capacity)\n",
        "                                +(pw.this.QueueLength)\n",
        "                                +(pw.this.TrafficConditionNearby)\n",
        "                                +(pw.this.IsSpecialDay)\n",
        "                               + (pw.this.VehicleType)\n",
        "                               )\n",
        "\n",
        "    )\n",
        "    .with_columns(\n",
        "\n",
        "                   price = 10 *( 1 + pw.this.normalized_demand)\n",
        "    )\n",
        ")\n",
        "\n",
        "delta_window"
      ]
    },
    {
      "cell_type": "code",
      "execution_count": null,
      "metadata": {
        "id": "IQdi6PfbkewK"
      },
      "outputs": [],
      "source": [
        "pw.io.csv.write(delta_window, '/content/output.csv')"
      ]
    },
    {
      "cell_type": "code",
      "execution_count": null,
      "metadata": {
        "id": "rWIXQoFmhZvL"
      },
      "outputs": [],
      "source": [
        "# Start the Pathway pipeline execution in the background\n",
        "# - This triggers the real-time data stream processing defined above\n",
        "# - %%capture --no-display suppresses output in the notebook interface\n",
        "\n",
        "%%capture --no-display\n",
        "pw.run()"
      ]
    },
    {
      "cell_type": "code",
      "execution_count": null,
      "metadata": {
        "id": "diPma6HPknwe"
      },
      "outputs": [],
      "source": [
        "df_1 = pd.read_csv('/content/output.csv')\n",
        "df_1['t'] = pd.to_datetime(df_1['t'])\n",
        "df_1['price'] = df_1['price'].round(2)\n",
        "df_1"
      ]
    },
    {
      "cell_type": "code",
      "execution_count": null,
      "metadata": {
        "id": "gkZJ7VD_lZMQ"
      },
      "outputs": [],
      "source": [
        "for place in places:\n",
        "   mask = df_1['SystemCodeNumber'] == place\n",
        "   df_2 = df_1[mask]\n",
        "   data = df_2.copy().reset_index(drop=True)\n",
        "\n",
        "#Updating prices row-by-row using previous row\n",
        "   for i in range(1, len(data)):\n",
        "    prev_price = data.loc[i - 1, 'price']\n",
        "    prev_demand = data.loc[i - 1, 'normalized_demand']\n",
        "    demand = data.loc[i, 'normalized_demand']\n",
        "    if (prev_demand) < (demand):\n",
        "      alpha = 5\n",
        "      demand_diff = demand - prev_demand\n",
        "    else:\n",
        "      alpha = -5\n",
        "      demand_diff = prev_demand - demand\n",
        "\n",
        "    data.loc[i, 'price'] = prev_price + alpha * (demand_diff)\n",
        "\n",
        "   df_1.loc[mask, 'price'] = data['price'].values\n",
        "\n",
        "\n",
        "df_1['price'] = df_1['price'].round(2)\n",
        "df_1"
      ]
    },
    {
      "cell_type": "markdown",
      "metadata": {
        "id": "E3sMSFtUqvax"
      },
      "source": [
        "# Step 3: Visualizing Daily Price Fluctuations with a Bokeh Plot"
      ]
    },
    {
      "cell_type": "code",
      "source": [
        "from bokeh.io import output_file, show, curdoc\n",
        "from bokeh.plotting import figure, ColumnDataSource\n",
        "from bokeh.models import Select, CustomJS\n",
        "from bokeh.layouts import column\n",
        "from bokeh.models import HoverTool\n",
        "import pandas as pd\n",
        "\n",
        "df_1['t_ms'] = pd.to_datetime(df_1['t']).astype('int64') // 10**6\n",
        "places = df_1['SystemCodeNumber'].unique().tolist()\n",
        "\n",
        "#Preload full data per place\n",
        "full_data = {\n",
        "    place: df_1[df_1['SystemCodeNumber'] == place][['t_ms', 'price']].to_dict('list')\n",
        "    for place in places\n",
        "}\n",
        "\n",
        "#Output HTML file\n",
        "output_file(\"animated_price_plot.html\", title=\"Animated Price Plot by Location\")\n",
        "curdoc().theme = 'dark_minimal'\n",
        "\n",
        "#Empty ColumnDataSource for animation\n",
        "source = ColumnDataSource(data={'t_ms': [], 'price': []})\n",
        "\n",
        "p = figure(title=\"Select a Place\", x_axis_type=\"datetime\", width=1000, height=400)\n",
        "\n",
        "p.add_tools(HoverTool(\n",
        "      tooltips=[\n",
        "        (\"Time\", \"@t_ms{%F %T}\"),\n",
        "        (\"Price\", \"@price\"),\n",
        "      ],\n",
        "      formatters={'@t_ms': 'datetime'},\n",
        "      mode='vline'\n",
        "      ))\n",
        "\n",
        "p.line('t_ms', 'price', source=source)\n",
        "p.scatter('t_ms', 'price', source=source, fill_color=\"red\", size=5)\n",
        "\n",
        "#(Select)\n",
        "select = Select(title=\"Select Place\", value=places[0], options=places)\n",
        "\n",
        "#JS Callback for Animation\n",
        "select.js_on_change(\"value\", CustomJS(args=dict(source=source, full_data=full_data, plot=p), code=\"\"\"\n",
        "    const selected = this.value;\n",
        "    const data = full_data[selected];\n",
        "    const times = data.t_ms;\n",
        "    const prices = data.price;\n",
        "\n",
        "    // Reset source\n",
        "    source.data = {t_ms: [], price: []};\n",
        "    plot.title.text = selected;\n",
        "\n",
        "    let i = 0;\n",
        "    const max = times.length;\n",
        "\n",
        "    // Clear previous interval if any\n",
        "    if (window.revealTimer) {\n",
        "        clearInterval(window.revealTimer);\n",
        "    }\n",
        "\n",
        "    window.revealTimer = setInterval(() => {\n",
        "        if (i >= max) {\n",
        "            clearInterval(window.revealTimer);\n",
        "            return;\n",
        "        }\n",
        "        source.data.t_ms.push(times[i]);\n",
        "        source.data.price.push(prices[i]);\n",
        "        source.change.emit();\n",
        "        i++;\n",
        "    }, 300);  // delay per point in ms (adjust for speed)\n",
        "\"\"\"))\n",
        "\n",
        "output_file(\"animated_price_plot.html\", title=\"Animated Price Plot by Location\")\n",
        "\n",
        "show(column(select, p))\n",
        "\n"
      ],
      "metadata": {
        "id": "8t8ofkbeWNme"
      },
      "execution_count": null,
      "outputs": []
    }
  ],
  "metadata": {
    "colab": {
      "provenance": []
    },
    "kaggle": {
      "accelerator": "none",
      "dataSources": [
        {
          "datasetId": 7749157,
          "sourceId": 12294858,
          "sourceType": "datasetVersion"
        }
      ],
      "dockerImageVersionId": 31040,
      "isGpuEnabled": false,
      "isInternetEnabled": true,
      "language": "python",
      "sourceType": "notebook"
    },
    "kernelspec": {
      "display_name": "Python 3",
      "language": "python",
      "name": "python3"
    },
    "language_info": {
      "codemirror_mode": {
        "name": "ipython",
        "version": 3
      },
      "file_extension": ".py",
      "mimetype": "text/x-python",
      "name": "python",
      "nbconvert_exporter": "python",
      "pygments_lexer": "ipython3",
      "version": "3.11.11"
    }
  },
  "nbformat": 4,
  "nbformat_minor": 0
}